{
 "cells": [
  {
   "cell_type": "code",
   "execution_count": 1,
   "metadata": {},
   "outputs": [],
   "source": [
    "import cv2\n",
    "xml = r'G:\\umang sir_machine learning\\umang\\face.xml'  ## harcascade\n",
    "face_cascade = cv2.CascadeClassifier(xml)\n",
    "cam = cv2.VideoCapture(0)\n",
    "while True:\n",
    "    ret,frame=cam.read()\n",
    "    faces = face_cascade.detectMultiScale(frame,1.2,5)\n",
    "    for (x,y,w,h) in faces:\n",
    "        cv2.rectangle(frame,(x,y),(x+w,y+h),(255,0,0),2)\n",
    "    cv2.imshow(\"Faces In Webcam\",frame)\n",
    "    if cv2.waitKey(1)==13:\n",
    "        break\n",
    "cam.release()\n",
    "cv2.destroyAllWindows()"
   ]
  },
  {
   "cell_type": "code",
   "execution_count": null,
   "metadata": {},
   "outputs": [],
   "source": [
    "import cv2\n",
    "xml = r'G:\\umang sir_machine learning\\umang\\face.xml'  ## harcascade\n",
    "eye_xml = r'G:\\umang sir_machine learning\\umang\\eye.xml' \n",
    "path = r'G:\\umang sir_machine learning\\umang\\faces.jpg'\n",
    "img = cv2.imread(path)\n",
    "face_cascade = cv2.CascadeClassifier(xml)\n",
    "eye_cascade = cv2.CascadeClassifier(eye_xml)\n",
    "faces = face_cascade.detectMultiScale(img,1.2,5)\n",
    "for (x,y,w,h) in faces:\n",
    "    cv2.rectangle(img,(x,y),(x+w,y+h),(255,0,0),2)\n",
    "    my_face = img[y:y+h,x:x+w]\n",
    "    eyes = eye_cascade.detectMultiScale(my_face)\n",
    "    for (ex,ey,ew,eh) in eyes:\n",
    "        cv2.rectangle(my_face,(ex,ey),(ex+ew,ey+eh),(0,255,0),1)\n",
    "cv2.imshow(\"Faces\",img)\n",
    "cv2.waitKey(0)\n",
    "cv2.destroyAllWindows()"
   ]
  },
  {
   "cell_type": "code",
   "execution_count": 9,
   "metadata": {},
   "outputs": [
    {
     "ename": "SystemError",
     "evalue": "<class 'cv2.CascadeClassifier'> returned a result with an error set",
     "output_type": "error",
     "traceback": [
      "\u001b[1;31m---------------------------------------------------------------------------\u001b[0m",
      "\u001b[1;31merror\u001b[0m                                     Traceback (most recent call last)",
      "\u001b[1;31merror\u001b[0m: OpenCV(4.2.0) C:\\projects\\opencv-python\\opencv\\modules\\core\\src\\persistence.cpp:719: error: (-49:Unknown error code -49) Input file is invalid in function 'cv::FileStorage::Impl::open'\n",
      "\nThe above exception was the direct cause of the following exception:\n",
      "\u001b[1;31mSystemError\u001b[0m                               Traceback (most recent call last)",
      "\u001b[1;32m<ipython-input-9-daee81bb11c3>\u001b[0m in \u001b[0;36m<module>\u001b[1;34m\u001b[0m\n\u001b[0;32m      5\u001b[0m \u001b[0mimg\u001b[0m \u001b[1;33m=\u001b[0m \u001b[0mcv2\u001b[0m\u001b[1;33m.\u001b[0m\u001b[0mimread\u001b[0m\u001b[1;33m(\u001b[0m\u001b[0mpath\u001b[0m\u001b[1;33m)\u001b[0m\u001b[1;33m\u001b[0m\u001b[1;33m\u001b[0m\u001b[0m\n\u001b[0;32m      6\u001b[0m \u001b[0mface_cascade\u001b[0m \u001b[1;33m=\u001b[0m \u001b[0mcv2\u001b[0m\u001b[1;33m.\u001b[0m\u001b[0mCascadeClassifier\u001b[0m\u001b[1;33m(\u001b[0m\u001b[0mxml\u001b[0m\u001b[1;33m)\u001b[0m\u001b[1;33m\u001b[0m\u001b[1;33m\u001b[0m\u001b[0m\n\u001b[1;32m----> 7\u001b[1;33m \u001b[0msmile_cascade\u001b[0m \u001b[1;33m=\u001b[0m \u001b[0mcv2\u001b[0m\u001b[1;33m.\u001b[0m\u001b[0mCascadeClassifier\u001b[0m\u001b[1;33m(\u001b[0m\u001b[0msmile_xml\u001b[0m\u001b[1;33m)\u001b[0m\u001b[1;33m\u001b[0m\u001b[1;33m\u001b[0m\u001b[0m\n\u001b[0m\u001b[0;32m      8\u001b[0m \u001b[0mfaces\u001b[0m \u001b[1;33m=\u001b[0m \u001b[0mface_cascade\u001b[0m\u001b[1;33m.\u001b[0m\u001b[0mdetectMultiScale\u001b[0m\u001b[1;33m(\u001b[0m\u001b[0mimg\u001b[0m\u001b[1;33m,\u001b[0m\u001b[1;36m1.2\u001b[0m\u001b[1;33m,\u001b[0m\u001b[1;36m5\u001b[0m\u001b[1;33m)\u001b[0m\u001b[1;33m\u001b[0m\u001b[1;33m\u001b[0m\u001b[0m\n\u001b[0;32m      9\u001b[0m \u001b[1;32mfor\u001b[0m \u001b[1;33m(\u001b[0m\u001b[0mx\u001b[0m\u001b[1;33m,\u001b[0m\u001b[0my\u001b[0m\u001b[1;33m,\u001b[0m\u001b[0mw\u001b[0m\u001b[1;33m,\u001b[0m\u001b[0mh\u001b[0m\u001b[1;33m)\u001b[0m \u001b[1;32min\u001b[0m \u001b[0mfaces\u001b[0m\u001b[1;33m:\u001b[0m\u001b[1;33m\u001b[0m\u001b[1;33m\u001b[0m\u001b[0m\n",
      "\u001b[1;31mSystemError\u001b[0m: <class 'cv2.CascadeClassifier'> returned a result with an error set"
     ]
    }
   ],
   "source": [
    "import cv2\n",
    "xml = r'G:\\umang sir_machine learning\\umang\\face.xml'  ## harcascade\n",
    "smile_xml = r'G:\\umang sir_machine learning\\umang\\smile.xml'\n",
    "path = r'G:\\umang sir_machine learning\\umang\\smiles.jpg'\n",
    "img = cv2.imread(path)\n",
    "face_cascade = cv2.CascadeClassifier(xml)\n",
    "smile_cascade = cv2.CascadeClassifier(smile_xml)\n",
    "faces = face_cascade.detectMultiScale(img,1.2,5)\n",
    "for (x,y,w,h) in faces:\n",
    "    cv2.rectangle(img,(x,y),(x+w,y+h),(255,0,0),2)\n",
    "    my_face = img[y:y+h,x:x+w]\n",
    "    smiles = smile_cascade.detectMultiScale(my_face,1.8,15)\n",
    "    for (sx,sy,sw,sh) in smiles:\n",
    "        cv2.rectangle(my_face,(sx,sy),(sx+sw,sy+sh),(0,255,0),1)\n",
    "cv2.imshow(\"Faces\",img)\n",
    "cv2.waitKey(0)\n",
    "cv2.destroyAllWindows()"
   ]
  },
  {
   "cell_type": "markdown",
   "metadata": {},
   "source": [
    "####  Detecting Object By Colour"
   ]
  },
  {
   "cell_type": "code",
   "execution_count": 7,
   "metadata": {},
   "outputs": [],
   "source": [
    "import cv2\n",
    "import numpy as np\n",
    "cam = cv2.VideoCapture(0)\n",
    "while True:\n",
    "    ret,frame = cam.read()   \n",
    "    hsv = cv2.cvtColor(frame,cv2.COLOR_BGR2HSV)  ## hue saturation value\n",
    "    ### Blue Color\n",
    "    low = np.array([100,50,50])\n",
    "    high = np.array([140,255,255])\n",
    "    image_mask = cv2.inRange(hsv,low,high)\n",
    "    output = cv2.bitwise_and(frame,frame,mask=image_mask)\n",
    "    cv2.imshow(\"Original\",frame)\n",
    "    cv2.imshow(\"Mask\",image_mask)\n",
    "    cv2.imshow(\"Output\",output)\n",
    "    if cv2.waitKey(1)==13:\n",
    "        break\n",
    "cam.release()\n",
    "cv2.destroyAllWindows()"
   ]
  },
  {
   "cell_type": "code",
   "execution_count": 8,
   "metadata": {},
   "outputs": [],
   "source": [
    "### Green Color\n",
    "low = np.array([40,50,50])\n",
    "high = np.array([80,255,255])\n",
    "\n",
    "### Blue Color\n",
    "low = np.array([100,50,50])\n",
    "high = np.array([140,255,255])"
   ]
  },
  {
   "cell_type": "code",
   "execution_count": null,
   "metadata": {},
   "outputs": [],
   "source": []
  }
 ],
 "metadata": {
  "kernelspec": {
   "display_name": "Python 3",
   "language": "python",
   "name": "python3"
  },
  "language_info": {
   "codemirror_mode": {
    "name": "ipython",
    "version": 3
   },
   "file_extension": ".py",
   "mimetype": "text/x-python",
   "name": "python",
   "nbconvert_exporter": "python",
   "pygments_lexer": "ipython3",
   "version": "3.7.4"
  }
 },
 "nbformat": 4,
 "nbformat_minor": 4
}
